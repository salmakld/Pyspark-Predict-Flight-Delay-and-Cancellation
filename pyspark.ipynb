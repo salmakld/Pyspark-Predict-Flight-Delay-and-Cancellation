{
 "cells": [
  {
   "cell_type": "markdown",
   "id": "8be82ff6",
   "metadata": {
    "papermill": {
     "duration": 0.021178,
     "end_time": "2022-03-22T20:03:35.598684",
     "exception": false,
     "start_time": "2022-03-22T20:03:35.577506",
     "status": "completed"
    },
    "tags": []
   },
   "source": [
    "# Predicting flight delays and cancellation with Pyspark \n",
    "Description:\n",
    "- Purpose\n",
    "- Steps\n",
    "- Model"
   ]
  },
  {
   "cell_type": "code",
   "execution_count": 1,
   "id": "19d9443a",
   "metadata": {
    "_cell_guid": "b1076dfc-b9ad-4769-8c92-a6c4dae69d19",
    "_uuid": "8f2839f25d086af736a60e9eeb907d3b93b6e0e5",
    "execution": {
     "iopub.execute_input": "2022-03-22T20:03:35.646409Z",
     "iopub.status.busy": "2022-03-22T20:03:35.644821Z",
     "iopub.status.idle": "2022-03-22T20:04:17.735618Z",
     "shell.execute_reply": "2022-03-22T20:04:17.734754Z",
     "shell.execute_reply.started": "2022-03-16T10:49:32.278767Z"
    },
    "papermill": {
     "duration": 42.11494,
     "end_time": "2022-03-22T20:04:17.735786",
     "exception": false,
     "start_time": "2022-03-22T20:03:35.620846",
     "status": "completed"
    },
    "tags": []
   },
   "outputs": [
    {
     "name": "stdout",
     "output_type": "stream",
     "text": [
      "Collecting pyspark\r\n",
      "  Downloading pyspark-3.2.1.tar.gz (281.4 MB)\r\n",
      "     |████████████████████████████████| 281.4 MB 40 kB/s              \r\n",
      "\u001b[?25h  Preparing metadata (setup.py) ... \u001b[?25l-\b \b\\\b \bdone\r\n",
      "\u001b[?25hRequirement already satisfied: py4j==0.10.9.3 in /opt/conda/lib/python3.7/site-packages (from pyspark) (0.10.9.3)\r\n",
      "Building wheels for collected packages: pyspark\r\n",
      "  Building wheel for pyspark (setup.py) ... \u001b[?25l-\b \b\\\b \b|\b \b/\b \b-\b \b\\\b \b|\b \b/\b \b-\b \b\\\b \b|\b \b/\b \b-\b \b\\\b \b|\b \b/\b \b-\b \b\\\b \b|\b \b/\b \b-\b \b\\\b \b|\b \b/\b \b-\b \b\\\b \b|\b \b/\b \b-\b \b\\\b \b|\b \b/\b \b-\b \b\\\b \b|\b \b/\b \b-\b \b\\\b \b|\b \b/\b \b-\b \b\\\b \b|\b \b/\b \b-\b \b\\\b \b|\b \b/\b \b-\b \b\\\b \bdone\r\n",
      "\u001b[?25h  Created wheel for pyspark: filename=pyspark-3.2.1-py2.py3-none-any.whl size=281853642 sha256=ac28b6e3f9ae47005c98333a23bf6d83b0dedc22be590be3025ad31124ced0db\r\n",
      "  Stored in directory: /root/.cache/pip/wheels/9f/f5/07/7cd8017084dce4e93e84e92efd1e1d5334db05f2e83bcef74f\r\n",
      "Successfully built pyspark\r\n",
      "Installing collected packages: pyspark\r\n",
      "Successfully installed pyspark-3.2.1\r\n",
      "\u001b[33mWARNING: Running pip as the 'root' user can result in broken permissions and conflicting behaviour with the system package manager. It is recommended to use a virtual environment instead: https://pip.pypa.io/warnings/venv\u001b[0m\r\n"
     ]
    }
   ],
   "source": [
    "!pip install pyspark"
   ]
  },
  {
   "cell_type": "markdown",
   "id": "b168941d",
   "metadata": {
    "papermill": {
     "duration": 0.145425,
     "end_time": "2022-03-22T20:04:18.026892",
     "exception": false,
     "start_time": "2022-03-22T20:04:17.881467",
     "status": "completed"
    },
    "tags": []
   },
   "source": [
    "# Import libraries"
   ]
  },
  {
   "cell_type": "code",
   "execution_count": 2,
   "id": "22a0881b",
   "metadata": {
    "execution": {
     "iopub.execute_input": "2022-03-22T20:04:18.322293Z",
     "iopub.status.busy": "2022-03-22T20:04:18.321595Z",
     "iopub.status.idle": "2022-03-22T20:04:18.671117Z",
     "shell.execute_reply": "2022-03-22T20:04:18.670442Z",
     "shell.execute_reply.started": "2022-03-16T10:50:24.02325Z"
    },
    "papermill": {
     "duration": 0.500697,
     "end_time": "2022-03-22T20:04:18.671303",
     "exception": false,
     "start_time": "2022-03-22T20:04:18.170606",
     "status": "completed"
    },
    "tags": []
   },
   "outputs": [],
   "source": [
    "import numpy as np\n",
    "import pandas as pd \n",
    "import os\n",
    "import pyspark\n",
    "from pyspark.sql import SparkSession\n",
    "from pyspark.sql.types import StructType, StructField, IntegerType, StringType\n",
    "from pyspark.sql.functions import round\n",
    "\n",
    "from pyspark.ml.feature import StringIndexer, VectorAssembler\n",
    "from pyspark.ml.classification import DecisionTreeClassifier, LogisticRegression\n",
    "from pyspark.ml.evaluation import MulticlassClassificationEvaluator, BinaryClassificationEvaluator "
   ]
  },
  {
   "cell_type": "code",
   "execution_count": 3,
   "id": "2714bc83",
   "metadata": {
    "execution": {
     "iopub.execute_input": "2022-03-22T20:04:18.961767Z",
     "iopub.status.busy": "2022-03-22T20:04:18.960989Z",
     "iopub.status.idle": "2022-03-22T20:04:18.965821Z",
     "shell.execute_reply": "2022-03-22T20:04:18.966343Z",
     "shell.execute_reply.started": "2022-03-16T10:50:24.430401Z"
    },
    "papermill": {
     "duration": 0.15157,
     "end_time": "2022-03-22T20:04:18.966533",
     "exception": false,
     "start_time": "2022-03-22T20:04:18.814963",
     "status": "completed"
    },
    "tags": []
   },
   "outputs": [],
   "source": [
    "airlines_path = \"../input/flight-delays/airlines.csv\"\n",
    "airports_path = \"../input/flight-delays/airports.csv\"\n",
    "flights_path = \"../input/flight-delays/flights.csv\""
   ]
  },
  {
   "cell_type": "markdown",
   "id": "bf5e97d7",
   "metadata": {
    "papermill": {
     "duration": 0.146186,
     "end_time": "2022-03-22T20:04:19.257418",
     "exception": false,
     "start_time": "2022-03-22T20:04:19.111232",
     "status": "completed"
    },
    "tags": []
   },
   "source": [
    "# Create Spark Session\n",
    "Initializing PySpark application"
   ]
  },
  {
   "cell_type": "code",
   "execution_count": 4,
   "id": "ebbe220b",
   "metadata": {
    "execution": {
     "iopub.execute_input": "2022-03-22T20:04:19.545688Z",
     "iopub.status.busy": "2022-03-22T20:04:19.545036Z",
     "iopub.status.idle": "2022-03-22T20:04:25.673865Z",
     "shell.execute_reply": "2022-03-22T20:04:25.673239Z",
     "shell.execute_reply.started": "2022-03-16T10:50:24.437799Z"
    },
    "papermill": {
     "duration": 6.27466,
     "end_time": "2022-03-22T20:04:25.673998",
     "exception": false,
     "start_time": "2022-03-22T20:04:19.399338",
     "status": "completed"
    },
    "tags": []
   },
   "outputs": [
    {
     "name": "stderr",
     "output_type": "stream",
     "text": [
      "WARNING: An illegal reflective access operation has occurred\n",
      "WARNING: Illegal reflective access by org.apache.spark.unsafe.Platform (file:/opt/conda/lib/python3.7/site-packages/pyspark/jars/spark-unsafe_2.12-3.2.1.jar) to constructor java.nio.DirectByteBuffer(long,int)\n",
      "WARNING: Please consider reporting this to the maintainers of org.apache.spark.unsafe.Platform\n",
      "WARNING: Use --illegal-access=warn to enable warnings of further illegal reflective access operations\n",
      "WARNING: All illegal access operations will be denied in a future release\n",
      "Using Spark's default log4j profile: org/apache/spark/log4j-defaults.properties\n",
      "Setting default log level to \"WARN\".\n",
      "To adjust logging level use sc.setLogLevel(newLevel). For SparkR, use setLogLevel(newLevel).\n",
      "22/03/22 20:04:22 WARN NativeCodeLoader: Unable to load native-hadoop library for your platform... using builtin-java classes where applicable\n"
     ]
    },
    {
     "name": "stdout",
     "output_type": "stream",
     "text": [
      "3.2.1\n"
     ]
    }
   ],
   "source": [
    "spark = SparkSession.builder\\\n",
    "                    .master('local')\\\n",
    "                    .appName('Predict flight delays and cancellation')\\\n",
    "                    .getOrCreate()\n",
    "print(spark.version)"
   ]
  },
  {
   "cell_type": "markdown",
   "id": "5b7e0517",
   "metadata": {
    "papermill": {
     "duration": 0.142599,
     "end_time": "2022-03-22T20:04:25.961447",
     "exception": false,
     "start_time": "2022-03-22T20:04:25.818848",
     "status": "completed"
    },
    "tags": []
   },
   "source": [
    "# Exploratory Data Analysis\n",
    "The following times are in the xx:yy - hour:minute format (e.g. 1536 means 3:36pm, 345 means 3:45am, 16 means 00:16am). \n",
    "- **YEAR**: Year of the Flight Trip | 1 distinct value\n",
    "- **MONTH**: Month of the Flight Trip | 12 distinct values\n",
    "- **DAY**: Day of the Flight Trip | 31\n",
    "- **DAY_OF_WEEK**: Day of week of the Flight Trip | 7\n",
    "- **AIRLINE**: Airline Identifier | 14 \n",
    "- **FLIGHT_NUMBER**: Flight Identifier | 9855\n",
    "- **TAIL_NUMBER**: Aircraft Identifier | 4897\n",
    "- **ORIGIN_AIRPORT**: Starting Airport | 628\n",
    "- **DESTINATION_AIRPORT**: Destination Airport | 629\n",
    "- **SCHEDULED_DEPARTURE**: Planned Departure Time |\n",
    "- **DEPARTURE_TIME**: WHEEL_OFF - TAXI_OUT\n",
    "- **DEPARTURE_DELAY**: Total Delay on Departure (Negative means flight in advance)\n",
    "- **TAXI_OUT**: The time duration elapsed between departure from the origin airport gate and wheels off.\n",
    "- **WHEELS_OFF**: The time point that the aircraft's wheels leave the ground.\n",
    "- **SCHEDULED_TIME**: Planned time amount needed for the flight trip\n",
    "- **ELAPSED_TIME**: AIR_TIME+TAXI_IN+TAXI_OUT\n",
    "- **AIR_TIME**: The time duration between wheels_off and wheels_on time\n",
    "- **DISTANCE**: Distance between two airports\n",
    "- **WHEELS_ON**: The time point that the aircraft's wheels touch on the ground.\n",
    "- **TAXI_IN**: The time duration elapsed between wheels-on and gate arrival at the destination airport\n",
    "- **SCHEDULED_ARRIVAL**: Planned arrival time\n",
    "- **ARRIVAL_TIME**: WHEELS_ON+TAXI_IN\n",
    "- **ARRIVAL_DELAY**: ARRIVAL_TIME-SCHEDULED_ARRIVAL\n",
    "- **DIVERTED**: Aircraft landed on airport that out of schedule | 2\n",
    "- **CANCELLED**: Flight Cancelled (1 = cancelled) | 2\n",
    "- **CANCELLATION_REASON**: Reason for Cancellation of flight: A - Airline/Carrier; B - Weather; C - National Air System; D - Security | 5\n",
    "- **AIR_SYSTEM_DELAY**: Delay caused by air system\n",
    "- **SECURITY_DELAY**: Delay caused by security\n",
    "- **AIRLINE_DELAY**: Delay caused by the airline\n",
    "- **LATE_AIRCRAFT_DELAY**: Delay caused by aircraft\n",
    "- **WEATHER_DELAY**: Delay caused by weather"
   ]
  },
  {
   "cell_type": "markdown",
   "id": "24fb803c",
   "metadata": {
    "papermill": {
     "duration": 0.141422,
     "end_time": "2022-03-22T20:04:26.245015",
     "exception": false,
     "start_time": "2022-03-22T20:04:26.103593",
     "status": "completed"
    },
    "tags": []
   },
   "source": [
    "## Read data"
   ]
  },
  {
   "cell_type": "code",
   "execution_count": 5,
   "id": "22079492",
   "metadata": {
    "execution": {
     "iopub.execute_input": "2022-03-22T20:04:26.534111Z",
     "iopub.status.busy": "2022-03-22T20:04:26.533455Z",
     "iopub.status.idle": "2022-03-22T20:05:02.614094Z",
     "shell.execute_reply": "2022-03-22T20:05:02.613360Z",
     "shell.execute_reply.started": "2022-03-16T10:50:30.648701Z"
    },
    "papermill": {
     "duration": 36.228862,
     "end_time": "2022-03-22T20:05:02.614323",
     "exception": false,
     "start_time": "2022-03-22T20:04:26.385461",
     "status": "completed"
    },
    "tags": []
   },
   "outputs": [
    {
     "name": "stderr",
     "output_type": "stream",
     "text": [
      "                                                                                \r"
     ]
    },
    {
     "name": "stdout",
     "output_type": "stream",
     "text": [
      "Number of columns 31\n"
     ]
    },
    {
     "name": "stderr",
     "output_type": "stream",
     "text": [
      "22/03/22 20:05:02 WARN package: Truncated the string representation of a plan since it was too large. This behavior can be adjusted by setting 'spark.sql.debug.maxToStringFields'.\n"
     ]
    },
    {
     "name": "stdout",
     "output_type": "stream",
     "text": [
      "Number of records: 5819079\n",
      "-RECORD 0---------------------\n",
      " YEAR                | 2015   \n",
      " MONTH               | 1      \n",
      " DAY                 | 1      \n",
      " DAY_OF_WEEK         | 4      \n",
      " AIRLINE             | AS     \n",
      " FLIGHT_NUMBER       | 98     \n",
      " TAIL_NUMBER         | N407AS \n",
      " ORIGIN_AIRPORT      | ANC    \n",
      " DESTINATION_AIRPORT | SEA    \n",
      " SCHEDULED_DEPARTURE | 5      \n",
      " DEPARTURE_TIME      | 2354   \n",
      " DEPARTURE_DELAY     | -11    \n",
      " TAXI_OUT            | 21     \n",
      " WHEELS_OFF          | 15     \n",
      " SCHEDULED_TIME      | 205    \n",
      " ELAPSED_TIME        | 194    \n",
      " AIR_TIME            | 169    \n",
      " DISTANCE            | 1448   \n",
      " WHEELS_ON           | 404    \n",
      " TAXI_IN             | 4      \n",
      " SCHEDULED_ARRIVAL   | 430    \n",
      " ARRIVAL_TIME        | 408    \n",
      " ARRIVAL_DELAY       | -22    \n",
      " DIVERTED            | 0      \n",
      " CANCELLED           | 0      \n",
      " CANCELLATION_REASON | null   \n",
      " AIR_SYSTEM_DELAY    | null   \n",
      " SECURITY_DELAY      | null   \n",
      " AIRLINE_DELAY       | null   \n",
      " LATE_AIRCRAFT_DELAY | null   \n",
      " WEATHER_DELAY       | null   \n",
      "only showing top 1 row\n",
      "\n"
     ]
    }
   ],
   "source": [
    "flights_df = spark.read.csv(flights_path,\n",
    "                           header=True,\n",
    "                           inferSchema=True,\n",
    "                           nullValue=\"NA\")\n",
    "\n",
    "print(\"Number of columns %d\"%len(flights_df.columns))\n",
    "print(\"Number of records: %d\"%flights_df.count())\n",
    "\n",
    "# Rows are shown vertically because rows are too long to show horizontally\n",
    "flights_df.show(1, vertical=True)"
   ]
  },
  {
   "cell_type": "code",
   "execution_count": 6,
   "id": "9bc37f48",
   "metadata": {
    "execution": {
     "iopub.execute_input": "2022-03-22T20:05:02.986482Z",
     "iopub.status.busy": "2022-03-22T20:05:02.984164Z",
     "iopub.status.idle": "2022-03-22T20:05:02.993592Z",
     "shell.execute_reply": "2022-03-22T20:05:02.991699Z",
     "shell.execute_reply.started": "2022-03-16T10:51:10.56971Z"
    },
    "papermill": {
     "duration": 0.171389,
     "end_time": "2022-03-22T20:05:02.994264",
     "exception": false,
     "start_time": "2022-03-22T20:05:02.822875",
     "status": "completed"
    },
    "tags": []
   },
   "outputs": [
    {
     "name": "stdout",
     "output_type": "stream",
     "text": [
      "root\n",
      " |-- YEAR: integer (nullable = true)\n",
      " |-- MONTH: integer (nullable = true)\n",
      " |-- DAY: integer (nullable = true)\n",
      " |-- DAY_OF_WEEK: integer (nullable = true)\n",
      " |-- AIRLINE: string (nullable = true)\n",
      " |-- FLIGHT_NUMBER: integer (nullable = true)\n",
      " |-- TAIL_NUMBER: string (nullable = true)\n",
      " |-- ORIGIN_AIRPORT: string (nullable = true)\n",
      " |-- DESTINATION_AIRPORT: string (nullable = true)\n",
      " |-- SCHEDULED_DEPARTURE: integer (nullable = true)\n",
      " |-- DEPARTURE_TIME: integer (nullable = true)\n",
      " |-- DEPARTURE_DELAY: integer (nullable = true)\n",
      " |-- TAXI_OUT: integer (nullable = true)\n",
      " |-- WHEELS_OFF: integer (nullable = true)\n",
      " |-- SCHEDULED_TIME: integer (nullable = true)\n",
      " |-- ELAPSED_TIME: integer (nullable = true)\n",
      " |-- AIR_TIME: integer (nullable = true)\n",
      " |-- DISTANCE: integer (nullable = true)\n",
      " |-- WHEELS_ON: integer (nullable = true)\n",
      " |-- TAXI_IN: integer (nullable = true)\n",
      " |-- SCHEDULED_ARRIVAL: integer (nullable = true)\n",
      " |-- ARRIVAL_TIME: integer (nullable = true)\n",
      " |-- ARRIVAL_DELAY: integer (nullable = true)\n",
      " |-- DIVERTED: integer (nullable = true)\n",
      " |-- CANCELLED: integer (nullable = true)\n",
      " |-- CANCELLATION_REASON: string (nullable = true)\n",
      " |-- AIR_SYSTEM_DELAY: integer (nullable = true)\n",
      " |-- SECURITY_DELAY: integer (nullable = true)\n",
      " |-- AIRLINE_DELAY: integer (nullable = true)\n",
      " |-- LATE_AIRCRAFT_DELAY: integer (nullable = true)\n",
      " |-- WEATHER_DELAY: integer (nullable = true)\n",
      "\n"
     ]
    }
   ],
   "source": [
    "flights_df.printSchema()"
   ]
  },
  {
   "cell_type": "code",
   "execution_count": 7,
   "id": "7908d633",
   "metadata": {
    "execution": {
     "iopub.execute_input": "2022-03-22T20:05:03.309141Z",
     "iopub.status.busy": "2022-03-22T20:05:03.308451Z",
     "iopub.status.idle": "2022-03-22T20:05:03.838338Z",
     "shell.execute_reply": "2022-03-22T20:05:03.838971Z",
     "shell.execute_reply.started": "2022-03-16T10:51:10.580898Z"
    },
    "papermill": {
     "duration": 0.687724,
     "end_time": "2022-03-22T20:05:03.839195",
     "exception": false,
     "start_time": "2022-03-22T20:05:03.151471",
     "status": "completed"
    },
    "tags": []
   },
   "outputs": [
    {
     "data": {
      "text/html": [
       "<table border='1'>\n",
       "<tr><th>YEAR</th><th>MONTH</th><th>DAY</th><th>DAY_OF_WEEK</th><th>AIRLINE</th><th>FLIGHT_NUMBER</th><th>TAIL_NUMBER</th><th>ORIGIN_AIRPORT</th><th>DESTINATION_AIRPORT</th><th>SCHEDULED_DEPARTURE</th><th>DEPARTURE_TIME</th><th>DEPARTURE_DELAY</th><th>TAXI_OUT</th><th>WHEELS_OFF</th><th>SCHEDULED_TIME</th><th>ELAPSED_TIME</th><th>AIR_TIME</th><th>DISTANCE</th><th>WHEELS_ON</th><th>TAXI_IN</th><th>SCHEDULED_ARRIVAL</th><th>ARRIVAL_TIME</th><th>ARRIVAL_DELAY</th><th>DIVERTED</th><th>CANCELLED</th><th>CANCELLATION_REASON</th><th>AIR_SYSTEM_DELAY</th><th>SECURITY_DELAY</th><th>AIRLINE_DELAY</th><th>LATE_AIRCRAFT_DELAY</th><th>WEATHER_DELAY</th></tr>\n",
       "<tr><td>2015</td><td>1</td><td>1</td><td>4</td><td>AS</td><td>98</td><td>N407AS</td><td>ANC</td><td>SEA</td><td>5</td><td>2354</td><td>-11</td><td>21</td><td>15</td><td>205</td><td>194</td><td>169</td><td>1448</td><td>404</td><td>4</td><td>430</td><td>408</td><td>-22</td><td>0</td><td>0</td><td>null</td><td>null</td><td>null</td><td>null</td><td>null</td><td>null</td></tr>\n",
       "<tr><td>2015</td><td>1</td><td>1</td><td>4</td><td>AA</td><td>2336</td><td>N3KUAA</td><td>LAX</td><td>PBI</td><td>10</td><td>2</td><td>-8</td><td>12</td><td>14</td><td>280</td><td>279</td><td>263</td><td>2330</td><td>737</td><td>4</td><td>750</td><td>741</td><td>-9</td><td>0</td><td>0</td><td>null</td><td>null</td><td>null</td><td>null</td><td>null</td><td>null</td></tr>\n",
       "<tr><td>2015</td><td>1</td><td>1</td><td>4</td><td>US</td><td>840</td><td>N171US</td><td>SFO</td><td>CLT</td><td>20</td><td>18</td><td>-2</td><td>16</td><td>34</td><td>286</td><td>293</td><td>266</td><td>2296</td><td>800</td><td>11</td><td>806</td><td>811</td><td>5</td><td>0</td><td>0</td><td>null</td><td>null</td><td>null</td><td>null</td><td>null</td><td>null</td></tr>\n",
       "<tr><td>2015</td><td>1</td><td>1</td><td>4</td><td>AA</td><td>258</td><td>N3HYAA</td><td>LAX</td><td>MIA</td><td>20</td><td>15</td><td>-5</td><td>15</td><td>30</td><td>285</td><td>281</td><td>258</td><td>2342</td><td>748</td><td>8</td><td>805</td><td>756</td><td>-9</td><td>0</td><td>0</td><td>null</td><td>null</td><td>null</td><td>null</td><td>null</td><td>null</td></tr>\n",
       "<tr><td>2015</td><td>1</td><td>1</td><td>4</td><td>AS</td><td>135</td><td>N527AS</td><td>SEA</td><td>ANC</td><td>25</td><td>24</td><td>-1</td><td>11</td><td>35</td><td>235</td><td>215</td><td>199</td><td>1448</td><td>254</td><td>5</td><td>320</td><td>259</td><td>-21</td><td>0</td><td>0</td><td>null</td><td>null</td><td>null</td><td>null</td><td>null</td><td>null</td></tr>\n",
       "<tr><td>2015</td><td>1</td><td>1</td><td>4</td><td>DL</td><td>806</td><td>N3730B</td><td>SFO</td><td>MSP</td><td>25</td><td>20</td><td>-5</td><td>18</td><td>38</td><td>217</td><td>230</td><td>206</td><td>1589</td><td>604</td><td>6</td><td>602</td><td>610</td><td>8</td><td>0</td><td>0</td><td>null</td><td>null</td><td>null</td><td>null</td><td>null</td><td>null</td></tr>\n",
       "<tr><td>2015</td><td>1</td><td>1</td><td>4</td><td>NK</td><td>612</td><td>N635NK</td><td>LAS</td><td>MSP</td><td>25</td><td>19</td><td>-6</td><td>11</td><td>30</td><td>181</td><td>170</td><td>154</td><td>1299</td><td>504</td><td>5</td><td>526</td><td>509</td><td>-17</td><td>0</td><td>0</td><td>null</td><td>null</td><td>null</td><td>null</td><td>null</td><td>null</td></tr>\n",
       "<tr><td>2015</td><td>1</td><td>1</td><td>4</td><td>US</td><td>2013</td><td>N584UW</td><td>LAX</td><td>CLT</td><td>30</td><td>44</td><td>14</td><td>13</td><td>57</td><td>273</td><td>249</td><td>228</td><td>2125</td><td>745</td><td>8</td><td>803</td><td>753</td><td>-10</td><td>0</td><td>0</td><td>null</td><td>null</td><td>null</td><td>null</td><td>null</td><td>null</td></tr>\n",
       "<tr><td>2015</td><td>1</td><td>1</td><td>4</td><td>AA</td><td>1112</td><td>N3LAAA</td><td>SFO</td><td>DFW</td><td>30</td><td>19</td><td>-11</td><td>17</td><td>36</td><td>195</td><td>193</td><td>173</td><td>1464</td><td>529</td><td>3</td><td>545</td><td>532</td><td>-13</td><td>0</td><td>0</td><td>null</td><td>null</td><td>null</td><td>null</td><td>null</td><td>null</td></tr>\n",
       "<tr><td>2015</td><td>1</td><td>1</td><td>4</td><td>DL</td><td>1173</td><td>N826DN</td><td>LAS</td><td>ATL</td><td>30</td><td>33</td><td>3</td><td>12</td><td>45</td><td>221</td><td>203</td><td>186</td><td>1747</td><td>651</td><td>5</td><td>711</td><td>656</td><td>-15</td><td>0</td><td>0</td><td>null</td><td>null</td><td>null</td><td>null</td><td>null</td><td>null</td></tr>\n",
       "<tr><td>2015</td><td>1</td><td>1</td><td>4</td><td>DL</td><td>2336</td><td>N958DN</td><td>DEN</td><td>ATL</td><td>30</td><td>24</td><td>-6</td><td>12</td><td>36</td><td>173</td><td>149</td><td>133</td><td>1199</td><td>449</td><td>4</td><td>523</td><td>453</td><td>-30</td><td>0</td><td>0</td><td>null</td><td>null</td><td>null</td><td>null</td><td>null</td><td>null</td></tr>\n",
       "<tr><td>2015</td><td>1</td><td>1</td><td>4</td><td>AA</td><td>1674</td><td>N853AA</td><td>LAS</td><td>MIA</td><td>35</td><td>27</td><td>-8</td><td>21</td><td>48</td><td>268</td><td>266</td><td>238</td><td>2174</td><td>746</td><td>7</td><td>803</td><td>753</td><td>-10</td><td>0</td><td>0</td><td>null</td><td>null</td><td>null</td><td>null</td><td>null</td><td>null</td></tr>\n",
       "<tr><td>2015</td><td>1</td><td>1</td><td>4</td><td>DL</td><td>1434</td><td>N547US</td><td>LAX</td><td>MSP</td><td>35</td><td>35</td><td>0</td><td>18</td><td>53</td><td>214</td><td>210</td><td>188</td><td>1535</td><td>601</td><td>4</td><td>609</td><td>605</td><td>-4</td><td>0</td><td>0</td><td>null</td><td>null</td><td>null</td><td>null</td><td>null</td><td>null</td></tr>\n",
       "<tr><td>2015</td><td>1</td><td>1</td><td>4</td><td>DL</td><td>2324</td><td>N3751B</td><td>SLC</td><td>ATL</td><td>40</td><td>34</td><td>-6</td><td>18</td><td>52</td><td>215</td><td>199</td><td>176</td><td>1590</td><td>548</td><td>5</td><td>615</td><td>553</td><td>-22</td><td>0</td><td>0</td><td>null</td><td>null</td><td>null</td><td>null</td><td>null</td><td>null</td></tr>\n",
       "<tr><td>2015</td><td>1</td><td>1</td><td>4</td><td>DL</td><td>2440</td><td>N651DL</td><td>SEA</td><td>MSP</td><td>40</td><td>39</td><td>-1</td><td>28</td><td>107</td><td>189</td><td>198</td><td>166</td><td>1399</td><td>553</td><td>4</td><td>549</td><td>557</td><td>8</td><td>0</td><td>0</td><td>null</td><td>null</td><td>null</td><td>null</td><td>null</td><td>null</td></tr>\n",
       "<tr><td>2015</td><td>1</td><td>1</td><td>4</td><td>AS</td><td>108</td><td>N309AS</td><td>ANC</td><td>SEA</td><td>45</td><td>41</td><td>-4</td><td>17</td><td>58</td><td>204</td><td>194</td><td>173</td><td>1448</td><td>451</td><td>4</td><td>509</td><td>455</td><td>-14</td><td>0</td><td>0</td><td>null</td><td>null</td><td>null</td><td>null</td><td>null</td><td>null</td></tr>\n",
       "<tr><td>2015</td><td>1</td><td>1</td><td>4</td><td>DL</td><td>1560</td><td>N3743H</td><td>ANC</td><td>SEA</td><td>45</td><td>31</td><td>-14</td><td>25</td><td>56</td><td>210</td><td>200</td><td>171</td><td>1448</td><td>447</td><td>4</td><td>515</td><td>451</td><td>-24</td><td>0</td><td>0</td><td>null</td><td>null</td><td>null</td><td>null</td><td>null</td><td>null</td></tr>\n",
       "<tr><td>2015</td><td>1</td><td>1</td><td>4</td><td>UA</td><td>1197</td><td>N78448</td><td>SFO</td><td>IAH</td><td>48</td><td>42</td><td>-6</td><td>11</td><td>53</td><td>218</td><td>217</td><td>199</td><td>1635</td><td>612</td><td>7</td><td>626</td><td>619</td><td>-7</td><td>0</td><td>0</td><td>null</td><td>null</td><td>null</td><td>null</td><td>null</td><td>null</td></tr>\n",
       "<tr><td>2015</td><td>1</td><td>1</td><td>4</td><td>AS</td><td>122</td><td>N413AS</td><td>ANC</td><td>PDX</td><td>50</td><td>46</td><td>-4</td><td>11</td><td>57</td><td>215</td><td>201</td><td>187</td><td>1542</td><td>504</td><td>3</td><td>525</td><td>507</td><td>-18</td><td>0</td><td>0</td><td>null</td><td>null</td><td>null</td><td>null</td><td>null</td><td>null</td></tr>\n",
       "<tr><td>2015</td><td>1</td><td>1</td><td>4</td><td>DL</td><td>1670</td><td>N806DN</td><td>PDX</td><td>MSP</td><td>50</td><td>45</td><td>-5</td><td>9</td><td>54</td><td>193</td><td>186</td><td>171</td><td>1426</td><td>545</td><td>6</td><td>603</td><td>551</td><td>-12</td><td>0</td><td>0</td><td>null</td><td>null</td><td>null</td><td>null</td><td>null</td><td>null</td></tr>\n",
       "</table>\n",
       "only showing top 20 rows\n"
      ],
      "text/plain": [
       "+----+-----+---+-----------+-------+-------------+-----------+--------------+-------------------+-------------------+--------------+---------------+--------+----------+--------------+------------+--------+--------+---------+-------+-----------------+------------+-------------+--------+---------+-------------------+----------------+--------------+-------------+-------------------+-------------+\n",
       "|YEAR|MONTH|DAY|DAY_OF_WEEK|AIRLINE|FLIGHT_NUMBER|TAIL_NUMBER|ORIGIN_AIRPORT|DESTINATION_AIRPORT|SCHEDULED_DEPARTURE|DEPARTURE_TIME|DEPARTURE_DELAY|TAXI_OUT|WHEELS_OFF|SCHEDULED_TIME|ELAPSED_TIME|AIR_TIME|DISTANCE|WHEELS_ON|TAXI_IN|SCHEDULED_ARRIVAL|ARRIVAL_TIME|ARRIVAL_DELAY|DIVERTED|CANCELLED|CANCELLATION_REASON|AIR_SYSTEM_DELAY|SECURITY_DELAY|AIRLINE_DELAY|LATE_AIRCRAFT_DELAY|WEATHER_DELAY|\n",
       "+----+-----+---+-----------+-------+-------------+-----------+--------------+-------------------+-------------------+--------------+---------------+--------+----------+--------------+------------+--------+--------+---------+-------+-----------------+------------+-------------+--------+---------+-------------------+----------------+--------------+-------------+-------------------+-------------+\n",
       "|2015|    1|  1|          4|     AS|           98|     N407AS|           ANC|                SEA|                  5|          2354|            -11|      21|        15|           205|         194|     169|    1448|      404|      4|              430|         408|          -22|       0|        0|               null|            null|          null|         null|               null|         null|\n",
       "|2015|    1|  1|          4|     AA|         2336|     N3KUAA|           LAX|                PBI|                 10|             2|             -8|      12|        14|           280|         279|     263|    2330|      737|      4|              750|         741|           -9|       0|        0|               null|            null|          null|         null|               null|         null|\n",
       "|2015|    1|  1|          4|     US|          840|     N171US|           SFO|                CLT|                 20|            18|             -2|      16|        34|           286|         293|     266|    2296|      800|     11|              806|         811|            5|       0|        0|               null|            null|          null|         null|               null|         null|\n",
       "|2015|    1|  1|          4|     AA|          258|     N3HYAA|           LAX|                MIA|                 20|            15|             -5|      15|        30|           285|         281|     258|    2342|      748|      8|              805|         756|           -9|       0|        0|               null|            null|          null|         null|               null|         null|\n",
       "|2015|    1|  1|          4|     AS|          135|     N527AS|           SEA|                ANC|                 25|            24|             -1|      11|        35|           235|         215|     199|    1448|      254|      5|              320|         259|          -21|       0|        0|               null|            null|          null|         null|               null|         null|\n",
       "|2015|    1|  1|          4|     DL|          806|     N3730B|           SFO|                MSP|                 25|            20|             -5|      18|        38|           217|         230|     206|    1589|      604|      6|              602|         610|            8|       0|        0|               null|            null|          null|         null|               null|         null|\n",
       "|2015|    1|  1|          4|     NK|          612|     N635NK|           LAS|                MSP|                 25|            19|             -6|      11|        30|           181|         170|     154|    1299|      504|      5|              526|         509|          -17|       0|        0|               null|            null|          null|         null|               null|         null|\n",
       "|2015|    1|  1|          4|     US|         2013|     N584UW|           LAX|                CLT|                 30|            44|             14|      13|        57|           273|         249|     228|    2125|      745|      8|              803|         753|          -10|       0|        0|               null|            null|          null|         null|               null|         null|\n",
       "|2015|    1|  1|          4|     AA|         1112|     N3LAAA|           SFO|                DFW|                 30|            19|            -11|      17|        36|           195|         193|     173|    1464|      529|      3|              545|         532|          -13|       0|        0|               null|            null|          null|         null|               null|         null|\n",
       "|2015|    1|  1|          4|     DL|         1173|     N826DN|           LAS|                ATL|                 30|            33|              3|      12|        45|           221|         203|     186|    1747|      651|      5|              711|         656|          -15|       0|        0|               null|            null|          null|         null|               null|         null|\n",
       "|2015|    1|  1|          4|     DL|         2336|     N958DN|           DEN|                ATL|                 30|            24|             -6|      12|        36|           173|         149|     133|    1199|      449|      4|              523|         453|          -30|       0|        0|               null|            null|          null|         null|               null|         null|\n",
       "|2015|    1|  1|          4|     AA|         1674|     N853AA|           LAS|                MIA|                 35|            27|             -8|      21|        48|           268|         266|     238|    2174|      746|      7|              803|         753|          -10|       0|        0|               null|            null|          null|         null|               null|         null|\n",
       "|2015|    1|  1|          4|     DL|         1434|     N547US|           LAX|                MSP|                 35|            35|              0|      18|        53|           214|         210|     188|    1535|      601|      4|              609|         605|           -4|       0|        0|               null|            null|          null|         null|               null|         null|\n",
       "|2015|    1|  1|          4|     DL|         2324|     N3751B|           SLC|                ATL|                 40|            34|             -6|      18|        52|           215|         199|     176|    1590|      548|      5|              615|         553|          -22|       0|        0|               null|            null|          null|         null|               null|         null|\n",
       "|2015|    1|  1|          4|     DL|         2440|     N651DL|           SEA|                MSP|                 40|            39|             -1|      28|       107|           189|         198|     166|    1399|      553|      4|              549|         557|            8|       0|        0|               null|            null|          null|         null|               null|         null|\n",
       "|2015|    1|  1|          4|     AS|          108|     N309AS|           ANC|                SEA|                 45|            41|             -4|      17|        58|           204|         194|     173|    1448|      451|      4|              509|         455|          -14|       0|        0|               null|            null|          null|         null|               null|         null|\n",
       "|2015|    1|  1|          4|     DL|         1560|     N3743H|           ANC|                SEA|                 45|            31|            -14|      25|        56|           210|         200|     171|    1448|      447|      4|              515|         451|          -24|       0|        0|               null|            null|          null|         null|               null|         null|\n",
       "|2015|    1|  1|          4|     UA|         1197|     N78448|           SFO|                IAH|                 48|            42|             -6|      11|        53|           218|         217|     199|    1635|      612|      7|              626|         619|           -7|       0|        0|               null|            null|          null|         null|               null|         null|\n",
       "|2015|    1|  1|          4|     AS|          122|     N413AS|           ANC|                PDX|                 50|            46|             -4|      11|        57|           215|         201|     187|    1542|      504|      3|              525|         507|          -18|       0|        0|               null|            null|          null|         null|               null|         null|\n",
       "|2015|    1|  1|          4|     DL|         1670|     N806DN|           PDX|                MSP|                 50|            45|             -5|       9|        54|           193|         186|     171|    1426|      545|      6|              603|         551|          -12|       0|        0|               null|            null|          null|         null|               null|         null|\n",
       "+----+-----+---+-----------+-------+-------------+-----------+--------------+-------------------+-------------------+--------------+---------------+--------+----------+--------------+------------+--------+--------+---------+-------+-----------------+------------+-------------+--------+---------+-------------------+----------------+--------------+-------------+-------------------+-------------+\n",
       "only showing top 20 rows"
      ]
     },
     "execution_count": 7,
     "metadata": {},
     "output_type": "execute_result"
    }
   ],
   "source": [
    "# Enable spark.sql.repl.eagerEval.enabled configuration for the eager evaluation \n",
    "spark.conf.set('spark.sql.repl.eagerEval.enabled', True)\n",
    "flights_df"
   ]
  },
  {
   "cell_type": "code",
   "execution_count": 8,
   "id": "c8a01492",
   "metadata": {
    "execution": {
     "iopub.execute_input": "2022-03-22T20:05:04.194165Z",
     "iopub.status.busy": "2022-03-22T20:05:04.193542Z",
     "iopub.status.idle": "2022-03-22T20:05:04.426765Z",
     "shell.execute_reply": "2022-03-22T20:05:04.426042Z",
     "shell.execute_reply.started": "2022-03-16T10:51:11.217176Z"
    },
    "papermill": {
     "duration": 0.38796,
     "end_time": "2022-03-22T20:05:04.426940",
     "exception": false,
     "start_time": "2022-03-22T20:05:04.038980",
     "status": "completed"
    },
    "tags": []
   },
   "outputs": [
    {
     "name": "stdout",
     "output_type": "stream",
     "text": [
      "+--------+---------+-------------------+----------------+--------------+-------------+-------------------+-------------+\n",
      "|DIVERTED|CANCELLED|CANCELLATION_REASON|AIR_SYSTEM_DELAY|SECURITY_DELAY|AIRLINE_DELAY|LATE_AIRCRAFT_DELAY|WEATHER_DELAY|\n",
      "+--------+---------+-------------------+----------------+--------------+-------------+-------------------+-------------+\n",
      "|       0|        0|               null|            null|          null|         null|               null|         null|\n",
      "|       0|        0|               null|            null|          null|         null|               null|         null|\n",
      "+--------+---------+-------------------+----------------+--------------+-------------+-------------------+-------------+\n",
      "only showing top 2 rows\n",
      "\n"
     ]
    }
   ],
   "source": [
    "res_columns = [\"DIVERTED\",\"CANCELLED\",\"CANCELLATION_REASON\",\"AIR_SYSTEM_DELAY\", \\\n",
    "\"SECURITY_DELAY\",\"AIRLINE_DELAY\",\"LATE_AIRCRAFT_DELAY\",\"WEATHER_DELAY\"]\n",
    "flights_df.select(res_columns).show(2)"
   ]
  },
  {
   "cell_type": "code",
   "execution_count": 9,
   "id": "fed6e25a",
   "metadata": {
    "execution": {
     "iopub.execute_input": "2022-03-22T20:05:04.738338Z",
     "iopub.status.busy": "2022-03-22T20:05:04.737656Z",
     "iopub.status.idle": "2022-03-22T20:05:04.740387Z",
     "shell.execute_reply": "2022-03-22T20:05:04.739810Z",
     "shell.execute_reply.started": "2022-03-16T10:51:11.494981Z"
    },
    "papermill": {
     "duration": 0.160576,
     "end_time": "2022-03-22T20:05:04.740519",
     "exception": false,
     "start_time": "2022-03-22T20:05:04.579943",
     "status": "completed"
    },
    "tags": []
   },
   "outputs": [],
   "source": [
    "# DIVERTED\n",
    "# CANCELLED\n",
    "# CANCELLATION_REASON\n",
    "# AIR_SYSTEM_DELAY\n",
    "# SECURITY_DELAY\n",
    "# AIRLINE_DELAY\n",
    "# LATE_AIRCRAFT_DELAY\n",
    "# WEATHER_DELAY"
   ]
  },
  {
   "cell_type": "markdown",
   "id": "069ea374",
   "metadata": {
    "papermill": {
     "duration": 0.152062,
     "end_time": "2022-03-22T20:05:05.045702",
     "exception": false,
     "start_time": "2022-03-22T20:05:04.893640",
     "status": "completed"
    },
    "tags": []
   },
   "source": []
  },
  {
   "cell_type": "code",
   "execution_count": 10,
   "id": "2dde46e2",
   "metadata": {
    "execution": {
     "iopub.execute_input": "2022-03-22T20:05:05.353832Z",
     "iopub.status.busy": "2022-03-22T20:05:05.353142Z",
     "iopub.status.idle": "2022-03-22T20:05:05.356771Z",
     "shell.execute_reply": "2022-03-22T20:05:05.357340Z",
     "shell.execute_reply.started": "2022-03-16T10:51:11.502713Z"
    },
    "papermill": {
     "duration": 0.159567,
     "end_time": "2022-03-22T20:05:05.357560",
     "exception": false,
     "start_time": "2022-03-22T20:05:05.197993",
     "status": "completed"
    },
    "tags": []
   },
   "outputs": [],
   "source": [
    "airlines_df = 0\n",
    "airports_df = 0"
   ]
  },
  {
   "cell_type": "code",
   "execution_count": null,
   "id": "6591f2d5",
   "metadata": {
    "papermill": {
     "duration": 0.150939,
     "end_time": "2022-03-22T20:05:05.660166",
     "exception": false,
     "start_time": "2022-03-22T20:05:05.509227",
     "status": "completed"
    },
    "tags": []
   },
   "outputs": [],
   "source": []
  },
  {
   "cell_type": "code",
   "execution_count": null,
   "id": "f5b46730",
   "metadata": {
    "papermill": {
     "duration": 0.152119,
     "end_time": "2022-03-22T20:05:05.965243",
     "exception": false,
     "start_time": "2022-03-22T20:05:05.813124",
     "status": "completed"
    },
    "tags": []
   },
   "outputs": [],
   "source": []
  }
 ],
 "metadata": {
  "kernelspec": {
   "display_name": "Python 3",
   "language": "python",
   "name": "python3"
  },
  "language_info": {
   "codemirror_mode": {
    "name": "ipython",
    "version": 3
   },
   "file_extension": ".py",
   "mimetype": "text/x-python",
   "name": "python",
   "nbconvert_exporter": "python",
   "pygments_lexer": "ipython3",
   "version": "3.7.12"
  },
  "papermill": {
   "default_parameters": {},
   "duration": 103.551831,
   "end_time": "2022-03-22T20:05:07.028911",
   "environment_variables": {},
   "exception": null,
   "input_path": "__notebook__.ipynb",
   "output_path": "__notebook__.ipynb",
   "parameters": {},
   "start_time": "2022-03-22T20:03:23.477080",
   "version": "2.3.3"
  }
 },
 "nbformat": 4,
 "nbformat_minor": 5
}
